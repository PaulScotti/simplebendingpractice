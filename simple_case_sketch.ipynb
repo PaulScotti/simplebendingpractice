{
 "cells": [
  {
   "cell_type": "markdown",
   "metadata": {
    "ExecuteTime": {
     "end_time": "2018-08-02T13:35:01.752519Z",
     "start_time": "2018-08-02T13:35:01.747883Z"
    }
   },
   "source": [
    "# Beam bending calculator\n",
    "\n",
    "1) Leave *lines 1 to 4 as they are*; they ensure that all necessary modules are imported and active.\n",
    "\n",
    "2) Indentation matters in Python. From line 5 onwards, there should be *exactly 4 spaces* before each line.\n",
    "\n",
    "3) Every line beginning with # (the numeral sign) is a comment. They are not executed so you can safely ignore or delete them.\n",
    "\n",
    "You can then play around choosing different loads and application points.\n",
    "The current code reproduces [this example](https://www.mathalino.com/reviewer/mechanics-and-strength-of-materials/solution-to-problem-448-relationship-between-load-shear).\n",
    "\n",
    "Now check what happens if you try more interesting expressions for the distributed loads, for example:\n",
    "\n",
    "```python\n",
    "beam.distributed_load(\"5 + x**2\", (0, 3))\n",
    "```\n",
    "A double asterisk is how you write a power in python (```\"x**3\"``` means $x^3$)\n",
    "\n",
    "**Note:** the quotation marks around mathematical expressions are mandatory."
   ]
  },
  {
   "cell_type": "code",
   "execution_count": null,
   "metadata": {
    "ExecuteTime": {
     "end_time": "2018-09-25T18:56:22.384534Z",
     "start_time": "2018-09-25T18:56:20.992107Z"
    }
   },
   "outputs": [],
   "source": [
    "%matplotlib inline\n",
    "from crunching import DistributedLoad, PointLoad, graphics_output\n",
    "\n",
    "with graphics_output() as (beam, x):\n",
    "    beam.length(9)           # Beam length\n",
    "    beam.fixed_support(2)    # x-coordinate of the fixed support\n",
    "    beam.rolling_support(7)  # x-coordinate of the rolling support\n",
    "\n",
    "    # Add a point load (20kN pointing downward, at x=3m)\n",
    "    beam.point_load(-20, 3)\n",
    "    # Distributed load (10kN/m pointing downward, between x=3m and x=9m)\n",
    "    beam.distributed_load(-10, (3, 9))\n",
    "    # Distributed load (20kN/m pointing downward, between x=0m and x=2m)\n",
    "    beam.distributed_load(-20, (0, 2))\n",
    "    beam.distributed_load(\"5 + x**2\", (0, 3))"
   ]
  },
  {
   "cell_type": "markdown",
   "metadata": {},
   "source": [
    "Click the link to download [a pdf file with your case results](./output/test01.pdf \"Come on and click! You know you want to.\")."
   ]
  }
 ],
 "metadata": {
  "kernelspec": {
   "display_name": "Python 3",
   "language": "python",
   "name": "python3"
  },
  "language_info": {
   "codemirror_mode": {
    "name": "ipython",
    "version": 3
   },
   "file_extension": ".py",
   "mimetype": "text/x-python",
   "name": "python",
   "nbconvert_exporter": "python",
   "pygments_lexer": "ipython3",
   "version": "3.6.5"
  },
  "toc": {
   "base_numbering": 1,
   "nav_menu": {},
   "number_sections": true,
   "sideBar": true,
   "skip_h1_title": false,
   "title_cell": "Table of Contents",
   "title_sidebar": "Contents",
   "toc_cell": false,
   "toc_position": {},
   "toc_section_display": true,
   "toc_window_display": false
  },
  "varInspector": {
   "cols": {
    "lenName": 16,
    "lenType": 16,
    "lenVar": 40
   },
   "kernels_config": {
    "python": {
     "delete_cmd_postfix": "",
     "delete_cmd_prefix": "del ",
     "library": "var_list.py",
     "varRefreshCmd": "print(var_dic_list())"
    },
    "r": {
     "delete_cmd_postfix": ") ",
     "delete_cmd_prefix": "rm(",
     "library": "var_list.r",
     "varRefreshCmd": "cat(var_dic_list()) "
    }
   },
   "types_to_exclude": [
    "module",
    "function",
    "builtin_function_or_method",
    "instance",
    "_Feature"
   ],
   "window_display": false
  }
 },
 "nbformat": 4,
 "nbformat_minor": 2
}
