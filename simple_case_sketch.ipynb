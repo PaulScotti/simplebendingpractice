{
 "cells": [
  {
   "cell_type": "code",
   "execution_count": 1,
   "metadata": {
    "ExecuteTime": {
     "end_time": "2018-08-06T09:25:12.127624Z",
     "start_time": "2018-08-06T09:25:11.768691Z"
    }
   },
   "outputs": [],
   "source": [
    "# %matplotlib notebook\n",
    "import matplotlib.pyplot as plt\n",
    "from matplotlib.patches import Polygon\n",
    "import numpy as np\n",
    "from sympy import integrate, Piecewise, symbols, lambdify\n",
    "import sympy\n",
    "\n",
    "\n",
    "plt.rc('text', usetex=True)\n",
    "\n",
    "\n",
    "def plot_analytical(ax, x_vec, sym_func, title=\"\", filename=\"foo\", maxmin_hline=False, x_units=\"m\", y_units='kN \\cdot m', ylabel=\"Bøyemoment\", facecolor=None):\n",
    "    x = symbols('x')\n",
    "    lambda_function = lambdify(x, sym_func, \"numpy\")\n",
    "    y_vec = lambda_function(x_vec)\n",
    "    return plot_numerical(ax, x_vec, y_vec, title, filename, maxmin_hline, x_units, y_units, ylabel, facecolor)\n",
    "\n",
    "\n",
    "def plot_numerical(ax, x_vec, y_vec, title=\"\", filename=\"foo\", maxmin_hline=False, x_units=\"m\", y_units='kN \\cdot m', ylabel=\"Bøyemoment\", facecolor=None):\n",
    "    ax.plot(x_vec, y_vec, '0.5', linewidth=2)\n",
    "    a, b = x_vec[0], x_vec[-1]\n",
    "    verts = [(a, 0)] + list(zip(x_vec, y_vec)) + [(b, 0)]\n",
    "    if not facecolor:\n",
    "        facecolor = '0.9'\n",
    "    poly = Polygon(verts, facecolor=facecolor, edgecolor='0.5', alpha=0.5)\n",
    "    ax.add_patch(poly)\n",
    "    if title:\n",
    "        ax.set_title(title)\n",
    "    ax.set_xlim([x_vec.min(), x_vec.max()])\n",
    "    if maxmin_hline:\n",
    "        ax.axhline(y=max(y_vec), linestyle='--', color=\"g\", alpha=0.5)\n",
    "        max_idx = y_vec.argmax()\n",
    "        ax.axhline(y=min(y_vec), linestyle='--', color=\"g\", alpha=0.5)\n",
    "        min_idx = y_vec.argmin()\n",
    "        \n",
    "        plt.annotate('${:0.1f}'.format(y_vec[max_idx]).rstrip('0').rstrip('.') + \" {}$\".format(y_units),\n",
    "                     xy=(x_vec[max_idx], y_vec[max_idx]), xytext=(8, 0), xycoords=('data', 'data'),\n",
    "                     textcoords='offset points', size=12)\n",
    "        plt.annotate('${:0.1f}'.format(y_vec[min_idx]).rstrip('0').rstrip('.') + \" {}$\".format(y_units),\n",
    "                     xy=(x_vec[min_idx], y_vec[min_idx]), xytext=(8, 0), xycoords=('data', 'data'),\n",
    "                     textcoords='offset points', size=12)\n",
    "        ax.set_xlabel('Bjelkeakse $[{}]$'.format(x_units))\n",
    "        ax.set_ylabel(\"{} $[{}]$\".format(ylabel, y_units))\n",
    "\n",
    "        plt.savefig('{}.pdf'.format(filename), bbox_inches='tight', rasterized=True)\n",
    "    return plt"
   ]
  },
  {
   "cell_type": "markdown",
   "metadata": {
    "ExecuteTime": {
     "end_time": "2018-08-02T13:35:01.752519Z",
     "start_time": "2018-08-02T13:35:01.747883Z"
    }
   },
   "source": [
    "# Test\n",
    "Reproduction of the example found [here](https://www.mathalino.com/reviewer/mechanics-and-strength-of-materials/solution-to-problem-448-relationship-between-load-shear)"
   ]
  },
  {
   "cell_type": "code",
   "execution_count": 59,
   "metadata": {
    "ExecuteTime": {
     "end_time": "2018-08-06T10:24:38.958483Z",
     "start_time": "2018-08-06T10:24:30.139400Z"
    }
   },
   "outputs": [
    {
     "name": "stdout",
     "output_type": "stream",
     "text": [
      "F_R:\t-120\n",
      "M_R:\t-460\n",
      "F_Ax:\t0\n",
      "F_Ay:\t76.0000000000000\n",
      "F_By:\t44.0000000000000\n"
     ]
    }
   ],
   "source": [
    "x0, x1 = 0, 9\n",
    "x_axis = np.linspace(x0, x1, (x1-x0)*1000+1)\n",
    "filename = \"foo\"\n",
    "x = symbols(\"x\")\n",
    "\n",
    "dist_load = 0\n",
    "dist_load += Piecewise((-20, x < 2), (0, True))\n",
    "dist_load += Piecewise((-10, x > 3), (0, True))\n",
    "\n",
    "shear_force = integrate(dist_load)\n",
    "point_load_x = 3\n",
    "point_load_kN = -20\n",
    "shear_force += Piecewise((0, x<point_load_x), (point_load_kN, True))\n",
    "\n",
    "\n",
    "# -------- Calculate reaction forces at supports -------- #\n",
    "F_Rx = 0\n",
    "F_Ry = integrate(dist_load, (x, x0, x1)) + point_load_kN\n",
    "M_R = integrate(dist_load * x, (x, x0, x1)) + point_load_kN * point_load_x\n",
    "print(\"F_R:\\t{0}\\nM_R:\\t{1}\".format(F_R, M_R))\n",
    "\n",
    "xA, xB = 2, 7\n",
    "A = np.array([[-1, 0, 0],\n",
    "              [0, -1, -xA],\n",
    "              [0, -1, -xB]]).T\n",
    "b = np.array([F_Rx, F_Ry, M_R])\n",
    "F_Ax, F_Ay, F_By = np.linalg.inv(A).dot(b)\n",
    "print(\"F_Ax:\\t{0}\\nF_Ay:\\t{1}\\nF_By:\\t{2}\".format(F_Ax, F_Ay, F_By))\n",
    "# -------- Calculate reaction forces at supports -------- #\n",
    "\n",
    "shear_force += Piecewise((0, x<xA), (F_Ay, True))\n",
    "shear_force += Piecewise((0, x<xB), (F_By, True))\n",
    "\n",
    "bending_moment = integrate(shear_force)\n",
    "\n",
    "\n",
    "fig = plt.figure(figsize=(6, 10))\n",
    "fig.subplots_adjust(hspace=0.4)\n",
    "\n",
    "ax1 = fig.add_subplot(3, 1, 1)\n",
    "plot01_params = {'filename':\"foo01\", \n",
    "               'maxmin_hline':True, \n",
    "               'x_units':\"m\", \n",
    "               'y_units':'kN / m', \n",
    "               'ylabel':\"Distributed loads\", \n",
    "               'facecolor':\"b\", \n",
    "               'title':\"LATEX TEST $- \\\\frac{2 \\\\sqrt{11}}{5} + \\\\frac{23}{5}$\"}\n",
    "plot_analytical(ax1, x_axis, dist_load, **plot01_params);\n",
    "\n",
    "ax2 = fig.add_subplot(3, 1, 2)\n",
    "plot02_params = {'filename':\"foo02\", \n",
    "                 'maxmin_hline':True, \n",
    "                 'x_units':\"m\", \n",
    "                 'y_units':'kN', \n",
    "                 'ylabel':\"Shear force\", \n",
    "                 'facecolor':\"r\"}\n",
    "plot_analytical(ax2, x_axis, shear_force, **plot02_params);\n",
    "\n",
    "ax3 = fig.add_subplot(3, 1, 3)\n",
    "plot03_params = {'filename':\"foo03\", \n",
    "                 'maxmin_hline':True, \n",
    "                 'x_units':\"m\", \n",
    "                 'y_units':'kN \\cdot m', \n",
    "                 'ylabel':\"Bending moment\", \n",
    "                 'facecolor':\"y\"}\n",
    "plot_analytical(ax3, x_axis, bending_moment, **plot03_params);\n",
    "plt.savefig(fname=\"test01.pdf\")\n",
    "plt.close()"
   ]
  },
  {
   "cell_type": "code",
   "execution_count": null,
   "metadata": {},
   "outputs": [],
   "source": []
  }
 ],
 "metadata": {
  "kernelspec": {
   "display_name": "Python 3",
   "language": "python",
   "name": "python3"
  },
  "language_info": {
   "codemirror_mode": {
    "name": "ipython",
    "version": 2
   },
   "file_extension": ".py",
   "mimetype": "text/x-python",
   "name": "python",
   "nbconvert_exporter": "python",
   "pygments_lexer": "ipython2",
   "version": "2.7.15rc1"
  },
  "toc": {
   "base_numbering": 1,
   "nav_menu": {},
   "number_sections": true,
   "sideBar": true,
   "skip_h1_title": false,
   "title_cell": "Table of Contents",
   "title_sidebar": "Contents",
   "toc_cell": false,
   "toc_position": {},
   "toc_section_display": true,
   "toc_window_display": false
  },
  "varInspector": {
   "cols": {
    "lenName": 16,
    "lenType": 16,
    "lenVar": 40
   },
   "kernels_config": {
    "python": {
     "delete_cmd_postfix": "",
     "delete_cmd_prefix": "del ",
     "library": "var_list.py",
     "varRefreshCmd": "print(var_dic_list())"
    },
    "r": {
     "delete_cmd_postfix": ") ",
     "delete_cmd_prefix": "rm(",
     "library": "var_list.r",
     "varRefreshCmd": "cat(var_dic_list()) "
    }
   },
   "types_to_exclude": [
    "module",
    "function",
    "builtin_function_or_method",
    "instance",
    "_Feature"
   ],
   "window_display": false
  }
 },
 "nbformat": 4,
 "nbformat_minor": 2
}
