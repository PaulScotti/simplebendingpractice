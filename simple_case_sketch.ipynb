{
 "cells": [
  {
   "cell_type": "markdown",
   "metadata": {},
   "source": [
    "# Initialization\n",
    "You only need to run this cell the first time. \n",
    "It ensures that all necessary packages are installed."
   ]
  },
  {
   "cell_type": "code",
   "execution_count": null,
   "metadata": {
    "ExecuteTime": {
     "end_time": "2018-09-21T12:42:20.527495Z",
     "start_time": "2018-09-21T12:42:19.034345Z"
    }
   },
   "outputs": [],
   "source": [
    "!pip3 install --upgrade pip\n",
    "!pip3 install -r requirements.txt\n",
    "\n",
    "from IPython.display import clear_output\n",
    "clear_output()"
   ]
  },
  {
   "cell_type": "markdown",
   "metadata": {},
   "source": [
    "Import all the necessary local files (same as above, you only need to run this once)."
   ]
  },
  {
   "cell_type": "code",
   "execution_count": null,
   "metadata": {
    "ExecuteTime": {
     "end_time": "2018-09-21T12:42:48.856017Z",
     "start_time": "2018-09-21T12:42:48.851352Z"
    }
   },
   "outputs": [],
   "source": [
    "%matplotlib inline\n",
    "import matplotlib.pyplot as plt\n",
    "from crunching import Beam, DistributedLoad, PointLoad, plot_and_save"
   ]
  },
  {
   "cell_type": "markdown",
   "metadata": {
    "ExecuteTime": {
     "end_time": "2018-08-02T13:35:01.752519Z",
     "start_time": "2018-08-02T13:35:01.747883Z"
    }
   },
   "source": [
    "# Test\n",
    "Reproduction of the example found [here](https://www.mathalino.com/reviewer/mechanics-and-strength-of-materials/solution-to-problem-448-relationship-between-load-shear)"
   ]
  },
  {
   "cell_type": "code",
   "execution_count": null,
   "metadata": {
    "ExecuteTime": {
     "end_time": "2018-09-21T12:42:50.583665Z",
     "start_time": "2018-09-21T12:42:49.830731Z"
    }
   },
   "outputs": [],
   "source": [
    "# These are the coordinates of the two beam ends\n",
    "test_case = Beam((0, 9))\n",
    "\n",
    "\n",
    "# We provide the coordinates of the rolling and fixed supports\n",
    "test_case.rolling_support(2)\n",
    "test_case.fixed_support(7)\n",
    "\n",
    "\n",
    "# Add a point load (20kN pointing downward, at x=3m)\n",
    "test_case.point_load(-20, 3)\n",
    "test_case.distributed_load(-20, (0, 2))\n",
    "test_case.distributed_load(-10, (3, 9))\n",
    "# test_case.point_load(10, 4)\n",
    "\n",
    "\n",
    "# See the resulting diagrams (this will soon be simplified)\n",
    "test_case.calculate_loads()\n",
    "params = (test_case._x0, test_case._x1, test_case._distributed_forces, test_case._shear_forces, test_case._bending_moments)\n",
    "\n",
    "plot_and_save(*params)\n"
   ]
  },
  {
   "cell_type": "markdown",
   "metadata": {},
   "source": [
    "This case has been saved to [this file](./output/test01.pdf \"Come on! Click to download a pdf file!\")"
   ]
  },
  {
   "cell_type": "code",
   "execution_count": null,
   "metadata": {},
   "outputs": [],
   "source": []
  }
 ],
 "metadata": {
  "kernelspec": {
   "display_name": "Python 3",
   "language": "python",
   "name": "python3"
  },
  "language_info": {
   "codemirror_mode": {
    "name": "ipython",
    "version": 3
   },
   "file_extension": ".py",
   "mimetype": "text/x-python",
   "name": "python",
   "nbconvert_exporter": "python",
   "pygments_lexer": "ipython3",
   "version": "3.6.6"
  },
  "toc": {
   "base_numbering": 1,
   "nav_menu": {},
   "number_sections": true,
   "sideBar": true,
   "skip_h1_title": false,
   "title_cell": "Table of Contents",
   "title_sidebar": "Contents",
   "toc_cell": false,
   "toc_position": {},
   "toc_section_display": true,
   "toc_window_display": false
  },
  "varInspector": {
   "cols": {
    "lenName": 16,
    "lenType": 16,
    "lenVar": 40
   },
   "kernels_config": {
    "python": {
     "delete_cmd_postfix": "",
     "delete_cmd_prefix": "del ",
     "library": "var_list.py",
     "varRefreshCmd": "print(var_dic_list())"
    },
    "r": {
     "delete_cmd_postfix": ") ",
     "delete_cmd_prefix": "rm(",
     "library": "var_list.r",
     "varRefreshCmd": "cat(var_dic_list()) "
    }
   },
   "types_to_exclude": [
    "module",
    "function",
    "builtin_function_or_method",
    "instance",
    "_Feature"
   ],
   "window_display": false
  }
 },
 "nbformat": 4,
 "nbformat_minor": 2
}
